{
 "cells": [
  {
   "cell_type": "markdown",
   "metadata": {},
   "source": [
    "# Web Mining and Applied NLP (44-620)\n",
    "\n",
    "## Final Project: Article Summarizer\n",
    "\n",
    "### Student Name: Tanner Young\n",
    "#### Github repo: https://github.com/TannerYoung13/article-summarizer-1\n",
    "Perform the tasks described in the Markdown cells below.  When you have completed the assignment make sure your code cells have all been run (and have output beneath them) and ensure you have committed and pushed ALL of your changes to your assignment repository.\n",
    "\n",
    "You should bring in code from previous assignments to help you answer the questions below.\n",
    "\n",
    "Every question that requires you to write code will have a code cell underneath it; you may either write your entire solution in that cell or write it in a python file (`.py`), then import and run the appropriate code to answer the question."
   ]
  },
  {
   "cell_type": "markdown",
   "metadata": {},
   "source": [
    "1. Find on the internet an article or blog post about a topic that interests you and you are able to get the text for using the technologies we have applied in the course.  Get the html for the article and store it in a file (which you must submit with your project)"
   ]
  },
  {
   "cell_type": "code",
   "execution_count": 2,
   "metadata": {},
   "outputs": [
    {
     "name": "stdout",
     "output_type": "stream",
     "text": [
      "Index(['type', 'id', 'subreddit.id', 'subreddit.name', 'subreddit.nsfw',\n",
      "       'created_utc', 'permalink', 'domain', 'url', 'selftext', 'title',\n",
      "       'score'],\n",
      "      dtype='object')\n",
      "Saved HTML content for article 0\n",
      "Error fetching URL: nan - Invalid URL 'nan': No scheme supplied. Perhaps you meant https://nan?\n",
      "Saved HTML content for article 2\n",
      "Saved HTML content for article 3\n",
      "Error fetching URL: https://texasscorecard.com/state/more-businesses-requiring-texans-to-show-proof-of-vaccination/\n",
      "Error fetching URL: nan - Invalid URL 'nan': No scheme supplied. Perhaps you meant https://nan?\n",
      "Saved HTML content for article 6\n"
     ]
    },
    {
     "name": "stderr",
     "output_type": "stream",
     "text": [
      "Some characters could not be decoded, and were replaced with REPLACEMENT CHARACTER.\n"
     ]
    },
    {
     "name": "stdout",
     "output_type": "stream",
     "text": [
      "Saved HTML content for article 7\n",
      "Error fetching URL: nan - Invalid URL 'nan': No scheme supplied. Perhaps you meant https://nan?\n",
      "Error fetching URL: nan - Invalid URL 'nan': No scheme supplied. Perhaps you meant https://nan?\n",
      "Saved HTML content for article 10\n",
      "Error fetching URL: https://i.redd.it/r5q0xprd3rg71.jpg\n",
      "Saved HTML content for article 12\n"
     ]
    },
    {
     "name": "stderr",
     "output_type": "stream",
     "text": [
      "Some characters could not be decoded, and were replaced with REPLACEMENT CHARACTER.\n"
     ]
    },
    {
     "name": "stdout",
     "output_type": "stream",
     "text": [
      "Saved HTML content for article 13\n",
      "Error fetching URL: https://i.redd.it/v2tuuz7x2rg71.png\n",
      "Error fetching URL: https://i.redd.it/t8hdz9ap2rg71.png\n",
      "Saved HTML content for article 16\n",
      "Error fetching URL: https://i.redd.it/uup0fycp2rg71.jpg\n"
     ]
    },
    {
     "name": "stderr",
     "output_type": "stream",
     "text": [
      "Some characters could not be decoded, and were replaced with REPLACEMENT CHARACTER.\n"
     ]
    },
    {
     "name": "stdout",
     "output_type": "stream",
     "text": [
      "Saved HTML content for article 18\n",
      "Error fetching URL: nan - Invalid URL 'nan': No scheme supplied. Perhaps you meant https://nan?\n"
     ]
    },
    {
     "name": "stderr",
     "output_type": "stream",
     "text": [
      "Some characters could not be decoded, and were replaced with REPLACEMENT CHARACTER.\n"
     ]
    },
    {
     "name": "stdout",
     "output_type": "stream",
     "text": [
      "Saved HTML content for article 20\n"
     ]
    },
    {
     "name": "stderr",
     "output_type": "stream",
     "text": [
      "Some characters could not be decoded, and were replaced with REPLACEMENT CHARACTER.\n"
     ]
    },
    {
     "name": "stdout",
     "output_type": "stream",
     "text": [
      "Saved HTML content for article 21\n",
      "Error fetching URL: nan - Invalid URL 'nan': No scheme supplied. Perhaps you meant https://nan?\n"
     ]
    },
    {
     "name": "stderr",
     "output_type": "stream",
     "text": [
      "Some characters could not be decoded, and were replaced with REPLACEMENT CHARACTER.\n"
     ]
    },
    {
     "name": "stdout",
     "output_type": "stream",
     "text": [
      "Saved HTML content for article 23\n"
     ]
    },
    {
     "name": "stderr",
     "output_type": "stream",
     "text": [
      "Some characters could not be decoded, and were replaced with REPLACEMENT CHARACTER.\n"
     ]
    },
    {
     "name": "stdout",
     "output_type": "stream",
     "text": [
      "Saved HTML content for article 24\n",
      "Error fetching URL: nan - Invalid URL 'nan': No scheme supplied. Perhaps you meant https://nan?\n",
      "Error fetching URL: nan - Invalid URL 'nan': No scheme supplied. Perhaps you meant https://nan?\n",
      "Error fetching URL: nan - Invalid URL 'nan': No scheme supplied. Perhaps you meant https://nan?\n",
      "Error fetching URL: nan - Invalid URL 'nan': No scheme supplied. Perhaps you meant https://nan?\n",
      "Error fetching URL: nan - Invalid URL 'nan': No scheme supplied. Perhaps you meant https://nan?\n",
      "Error fetching URL: nan - Invalid URL 'nan': No scheme supplied. Perhaps you meant https://nan?\n",
      "Error fetching URL: nan - Invalid URL 'nan': No scheme supplied. Perhaps you meant https://nan?\n",
      "Error fetching URL: nan - Invalid URL 'nan': No scheme supplied. Perhaps you meant https://nan?\n",
      "Error fetching URL: nan - Invalid URL 'nan': No scheme supplied. Perhaps you meant https://nan?\n",
      "Error fetching URL: nan - Invalid URL 'nan': No scheme supplied. Perhaps you meant https://nan?\n",
      "Error fetching URL: nan - Invalid URL 'nan': No scheme supplied. Perhaps you meant https://nan?\n",
      "Error fetching URL: nan - Invalid URL 'nan': No scheme supplied. Perhaps you meant https://nan?\n",
      "Error fetching URL: nan - Invalid URL 'nan': No scheme supplied. Perhaps you meant https://nan?\n",
      "Error fetching URL: nan - Invalid URL 'nan': No scheme supplied. Perhaps you meant https://nan?\n",
      "Error fetching URL: nan - Invalid URL 'nan': No scheme supplied. Perhaps you meant https://nan?\n",
      "Error fetching URL: nan - Invalid URL 'nan': No scheme supplied. Perhaps you meant https://nan?\n",
      "Error fetching URL: nan - Invalid URL 'nan': No scheme supplied. Perhaps you meant https://nan?\n",
      "Error fetching URL: nan - Invalid URL 'nan': No scheme supplied. Perhaps you meant https://nan?\n",
      "Error fetching URL: nan - Invalid URL 'nan': No scheme supplied. Perhaps you meant https://nan?\n",
      "Error fetching URL: nan - Invalid URL 'nan': No scheme supplied. Perhaps you meant https://nan?\n",
      "Error fetching URL: nan - Invalid URL 'nan': No scheme supplied. Perhaps you meant https://nan?\n",
      "Error fetching URL: nan - Invalid URL 'nan': No scheme supplied. Perhaps you meant https://nan?\n",
      "Error fetching URL: nan - Invalid URL 'nan': No scheme supplied. Perhaps you meant https://nan?\n",
      "Error fetching URL: nan - Invalid URL 'nan': No scheme supplied. Perhaps you meant https://nan?\n",
      "Error fetching URL: nan - Invalid URL 'nan': No scheme supplied. Perhaps you meant https://nan?\n",
      "Error fetching URL: nan - Invalid URL 'nan': No scheme supplied. Perhaps you meant https://nan?\n",
      "Error fetching URL: nan - Invalid URL 'nan': No scheme supplied. Perhaps you meant https://nan?\n",
      "Error fetching URL: nan - Invalid URL 'nan': No scheme supplied. Perhaps you meant https://nan?\n",
      "Error fetching URL: nan - Invalid URL 'nan': No scheme supplied. Perhaps you meant https://nan?\n",
      "Error fetching URL: nan - Invalid URL 'nan': No scheme supplied. Perhaps you meant https://nan?\n",
      "Error fetching URL: nan - Invalid URL 'nan': No scheme supplied. Perhaps you meant https://nan?\n",
      "Error fetching URL: nan - Invalid URL 'nan': No scheme supplied. Perhaps you meant https://nan?\n",
      "Error fetching URL: nan - Invalid URL 'nan': No scheme supplied. Perhaps you meant https://nan?\n",
      "Error fetching URL: nan - Invalid URL 'nan': No scheme supplied. Perhaps you meant https://nan?\n",
      "Error fetching URL: nan - Invalid URL 'nan': No scheme supplied. Perhaps you meant https://nan?\n",
      "Error fetching URL: nan - Invalid URL 'nan': No scheme supplied. Perhaps you meant https://nan?\n",
      "Error fetching URL: nan - Invalid URL 'nan': No scheme supplied. Perhaps you meant https://nan?\n",
      "Error fetching URL: nan - Invalid URL 'nan': No scheme supplied. Perhaps you meant https://nan?\n",
      "Error fetching URL: nan - Invalid URL 'nan': No scheme supplied. Perhaps you meant https://nan?\n",
      "Error fetching URL: nan - Invalid URL 'nan': No scheme supplied. Perhaps you meant https://nan?\n",
      "Error fetching URL: nan - Invalid URL 'nan': No scheme supplied. Perhaps you meant https://nan?\n",
      "Error fetching URL: nan - Invalid URL 'nan': No scheme supplied. Perhaps you meant https://nan?\n",
      "Error fetching URL: nan - Invalid URL 'nan': No scheme supplied. Perhaps you meant https://nan?\n",
      "Error fetching URL: nan - Invalid URL 'nan': No scheme supplied. Perhaps you meant https://nan?\n",
      "Error fetching URL: nan - Invalid URL 'nan': No scheme supplied. Perhaps you meant https://nan?\n",
      "Error fetching URL: nan - Invalid URL 'nan': No scheme supplied. Perhaps you meant https://nan?\n",
      "Error fetching URL: nan - Invalid URL 'nan': No scheme supplied. Perhaps you meant https://nan?\n",
      "Error fetching URL: nan - Invalid URL 'nan': No scheme supplied. Perhaps you meant https://nan?\n",
      "Error fetching URL: nan - Invalid URL 'nan': No scheme supplied. Perhaps you meant https://nan?\n",
      "Error fetching URL: nan - Invalid URL 'nan': No scheme supplied. Perhaps you meant https://nan?\n",
      "Error fetching URL: nan - Invalid URL 'nan': No scheme supplied. Perhaps you meant https://nan?\n",
      "Error fetching URL: nan - Invalid URL 'nan': No scheme supplied. Perhaps you meant https://nan?\n",
      "Error fetching URL: nan - Invalid URL 'nan': No scheme supplied. Perhaps you meant https://nan?\n",
      "Error fetching URL: nan - Invalid URL 'nan': No scheme supplied. Perhaps you meant https://nan?\n",
      "Error fetching URL: nan - Invalid URL 'nan': No scheme supplied. Perhaps you meant https://nan?\n",
      "Error fetching URL: nan - Invalid URL 'nan': No scheme supplied. Perhaps you meant https://nan?\n",
      "Error fetching URL: nan - Invalid URL 'nan': No scheme supplied. Perhaps you meant https://nan?\n",
      "Error fetching URL: nan - Invalid URL 'nan': No scheme supplied. Perhaps you meant https://nan?\n",
      "Error fetching URL: nan - Invalid URL 'nan': No scheme supplied. Perhaps you meant https://nan?\n",
      "Error fetching URL: nan - Invalid URL 'nan': No scheme supplied. Perhaps you meant https://nan?\n",
      "Error fetching URL: nan - Invalid URL 'nan': No scheme supplied. Perhaps you meant https://nan?\n",
      "Error fetching URL: nan - Invalid URL 'nan': No scheme supplied. Perhaps you meant https://nan?\n",
      "Error fetching URL: nan - Invalid URL 'nan': No scheme supplied. Perhaps you meant https://nan?\n",
      "Error fetching URL: nan - Invalid URL 'nan': No scheme supplied. Perhaps you meant https://nan?\n",
      "Error fetching URL: nan - Invalid URL 'nan': No scheme supplied. Perhaps you meant https://nan?\n",
      "Error fetching URL: nan - Invalid URL 'nan': No scheme supplied. Perhaps you meant https://nan?\n",
      "Error fetching URL: nan - Invalid URL 'nan': No scheme supplied. Perhaps you meant https://nan?\n",
      "Error fetching URL: nan - Invalid URL 'nan': No scheme supplied. Perhaps you meant https://nan?\n",
      "Error fetching URL: nan - Invalid URL 'nan': No scheme supplied. Perhaps you meant https://nan?\n",
      "Error fetching URL: nan - Invalid URL 'nan': No scheme supplied. Perhaps you meant https://nan?\n",
      "Error fetching URL: nan - Invalid URL 'nan': No scheme supplied. Perhaps you meant https://nan?\n",
      "Error fetching URL: nan - Invalid URL 'nan': No scheme supplied. Perhaps you meant https://nan?\n",
      "Error fetching URL: nan - Invalid URL 'nan': No scheme supplied. Perhaps you meant https://nan?\n"
     ]
    }
   ],
   "source": [
    "import pandas as pd\n",
    "import requests\n",
    "from bs4 import BeautifulSoup\n",
    "\n",
    "df = pd.read_csv('no-new-normal-posts.csv')\n",
    "print(df.columns)\n",
    "urls = df['url'].tolist()\n",
    "\n",
    "for index, url in enumerate(urls):\n",
    "    try:\n",
    "        response = requests.get(url)\n",
    "        if response.status_code == 200:\n",
    "            soup = BeautifulSoup(response.content, 'html.parser')\n",
    "            with open(f'article_{index}.html', 'w', encoding='utf-8') as file:\n",
    "                file.write(str(soup))\n",
    "            print(f'Saved HTML content for article {index}')\n",
    "        else:\n",
    "            print(f'Error fetching URL: {url}')\n",
    "    except Exception as e:\n",
    "        print(f'Error fetching URL: {url} - {e}')\n"
   ]
  },
  {
   "cell_type": "markdown",
   "metadata": {},
   "source": [
    "2. Read in your article's html source from the file you created in question 1 and do sentiment analysis on the article/post's text (use `.get_text()`).  Print the polarity score with an appropriate label.  Additionally print the number of sentences in the original article (with an appropriate label)"
   ]
  },
  {
   "cell_type": "code",
   "execution_count": 1,
   "metadata": {},
   "outputs": [
    {
     "name": "stdout",
     "output_type": "stream",
     "text": [
      "Polarity Score: 0.05\n",
      "Number of Sentences: 44\n"
     ]
    }
   ],
   "source": [
    "from bs4 import BeautifulSoup\n",
    "from textblob import TextBlob\n",
    "\n",
    "file_path = 'article_3.html' \n",
    "with open(file_path, 'r', encoding='utf-8') as file:\n",
    "    html_content = file.read()\n",
    "\n",
    "soup = BeautifulSoup(html_content, 'html.parser')\n",
    "article_text = soup.get_text()\n",
    "\n",
    "blob = TextBlob(article_text)\n",
    "polarity_score = blob.sentiment.polarity\n",
    "\n",
    "print(f'Polarity Score: {polarity_score:.2f}')\n",
    "\n",
    "sentences_count = len(blob.sentences)\n",
    "\n",
    "print(f'Number of Sentences: {sentences_count}')\n"
   ]
  },
  {
   "cell_type": "markdown",
   "metadata": {},
   "source": [
    "3. Load the article text into a trained `spaCy` pipeline, and determine the 5 most frequent tokens (converted to lower case).  Print the common tokens with an appropriate label.  Additionally, print the tokens their frequencies (with appropriate labels)"
   ]
  },
  {
   "cell_type": "code",
   "execution_count": 3,
   "metadata": {},
   "outputs": [
    {
     "name": "stdout",
     "output_type": "stream",
     "text": [
      "5 Most Frequent Tokens:\n",
      "Token: >, Frequency: 883\n",
      "Token: <, Frequency: 805\n",
      "Token: \n",
      ", Frequency: 779\n",
      "Token: fa, Frequency: 209\n",
      "Token: div, Frequency: 181\n"
     ]
    }
   ],
   "source": [
    "import spacy\n",
    "from collections import Counter\n",
    "nlp = spacy.load('en_core_web_sm')\n",
    "\n",
    "file_path = 'article_3.html'  \n",
    "with open(file_path, 'r', encoding='utf-8') as file:\n",
    "    article_text = file.read()\n",
    "\n",
    "doc = nlp(article_text)\n",
    "filtered_tokens = [token.text.lower() for token in doc if not token.is_punct and not token.is_stop]\n",
    "\n",
    "token_frequencies = Counter(filtered_tokens)\n",
    "most_common_tokens = token_frequencies.most_common(5)\n",
    "\n",
    "print(f'5 Most Frequent Tokens:')\n",
    "for token, frequency in most_common_tokens:\n",
    "    print(f'Token: {token}, Frequency: {frequency}')\n"
   ]
  },
  {
   "cell_type": "markdown",
   "metadata": {},
   "source": [
    "4. Load the article text into a trained `spaCy` pipeline, and determine the 5 most frequent lemmas (converted to lower case).  Print the common lemmas with an appropriate label.  Additionally, print the lemmas with their frequencies (with appropriate labels)."
   ]
  },
  {
   "cell_type": "code",
   "execution_count": 4,
   "metadata": {},
   "outputs": [
    {
     "name": "stdout",
     "output_type": "stream",
     "text": [
      "5 Most Frequent Lemmas:\n",
      "Lemma: >, Frequency: 883\n",
      "Lemma: <, Frequency: 805\n",
      "Lemma: \n",
      ", Frequency: 779\n",
      "Lemma: fa, Frequency: 209\n",
      "Lemma: div, Frequency: 181\n"
     ]
    }
   ],
   "source": [
    "import spacy\n",
    "from collections import Counter\n",
    "\n",
    "nlp = spacy.load('en_core_web_sm')\n",
    "\n",
    "file_path = 'article_3.html'\n",
    "with open(file_path, 'r', encoding='utf-8') as file:\n",
    "    article_text = file.read()\n",
    "\n",
    "doc = nlp(article_text)\n",
    "filtered_lemmas = [token.lemma_.lower() for token in doc if not token.is_punct and not token.is_stop]\n",
    "lemma_frequencies = Counter(filtered_lemmas)\n",
    "most_common_lemmas = lemma_frequencies.most_common(5)\n",
    "\n",
    "print(f'5 Most Frequent Lemmas:')\n",
    "for lemma, frequency in most_common_lemmas:\n",
    "    print(f'Lemma: {lemma}, Frequency: {frequency}')\n"
   ]
  },
  {
   "cell_type": "markdown",
   "metadata": {},
   "source": [
    "5. Make a list containing the scores (using tokens) of every sentence in the article, and plot a histogram with appropriate titles and axis labels of the scores. From your histogram, what seems to be the most common range of scores (put the answer in a comment after your code)?"
   ]
  },
  {
   "cell_type": "code",
   "execution_count": 5,
   "metadata": {},
   "outputs": [
    {
     "data": {
      "image/png": "[encoded data removed]",
      "text/plain": [
       "<Figure size 1000x600 with 1 Axes>"
      ]
     },
     "metadata": {},
     "output_type": "display_data"
    }
   ],
   "source": [
    "import spacy\n",
    "from textblob import TextBlob\n",
    "import matplotlib.pyplot as plt\n",
    "nlp = spacy.load('en_core_web_sm')\n",
    "\n",
    "file_path = 'article_3.html'  \n",
    "with open(file_path, 'r', encoding='utf-8') as file:\n",
    "    article_text = file.read()\n",
    "\n",
    "doc = nlp(article_text)\n",
    "sentences = [sent.text for sent in doc.sents]\n",
    "sentence_scores = []\n",
    "for sentence in sentences:\n",
    "    blob = TextBlob(sentence)\n",
    "    sentence_scores.append(blob.sentiment.polarity)\n",
    "\n",
    "plt.figure(figsize=(10, 6))\n",
    "plt.hist(sentence_scores, bins=20, color='skyblue', edgecolor='black')\n",
    "plt.title('Distribution of Sentiment Scores of Sentences')\n",
    "plt.xlabel('Sentiment Score')\n",
    "plt.ylabel('Frequency')\n",
    "plt.grid(True)\n",
    "plt.show()\n",
    "\n"
   ]
  },
  {
   "cell_type": "markdown",
   "metadata": {},
   "source": [
    "6. Make a list containing the scores (using lemmas) of every sentence in the article, and plot a histogram with appropriate titles and axis labels of the scores.  From your histogram, what seems to be the most common range of scores (put the answer in a comment after your code)?"
   ]
  },
  {
   "cell_type": "code",
   "execution_count": 6,
   "metadata": {},
   "outputs": [
    {
     "data": {
      "image/png": "[encoded data removed]",
      "text/plain": [
       "<Figure size 1000x600 with 1 Axes>"
      ]
     },
     "metadata": {},
     "output_type": "display_data"
    }
   ],
   "source": [
    "import spacy\n",
    "from textblob import TextBlob\n",
    "import matplotlib.pyplot as plt\n",
    "nlp = spacy.load('en_core_web_sm')\n",
    "\n",
    "file_path = 'article_3.html'\n",
    "with open(file_path, 'r', encoding='utf-8') as file:\n",
    "    article_text = file.read()\n",
    "\n",
    "doc = nlp(article_text)\n",
    "sentence_lemmas = [[token.lemma_.lower() for token in sent if not token.is_punct and not token.is_stop] for sent in doc.sents]\n",
    "sentence_scores = []\n",
    "for sentence in sentence_lemmas:\n",
    "    if sentence:\n",
    "        blob = TextBlob(' '.join(sentence))\n",
    "        sentence_scores.append(blob.sentiment.polarity)\n",
    "\n",
    "\n",
    "plt.figure(figsize=(10, 6))\n",
    "plt.hist(sentence_scores, bins=20, color='skyblue', edgecolor='black')\n",
    "plt.title('Distribution of Sentiment Scores of Sentences (Lemmas)')\n",
    "plt.xlabel('Sentiment Score')\n",
    "plt.ylabel('Frequency')\n",
    "plt.grid(True)\n",
    "plt.show()"
   ]
  },
  {
   "cell_type": "markdown",
   "metadata": {},
   "source": [
    "7. Using the histograms from questions 5 and 6, decide a \"cutoff\" score for tokens and lemmas such that fewer than half the sentences would have a score greater than the cutoff score.  Record the scores in this Markdown cell\n",
    "\n",
    "* Cutoff Score (tokens): \n",
    "* Cutoff Score (lemmas):\n",
    "\n",
    "Feel free to change these scores as you generate your summaries.  Ideally, we're shooting for at least 6 sentences for our summary, but don't want more than 10 (these numbers are rough estimates; they depend on the length of your article)."
   ]
  },
  {
   "cell_type": "markdown",
   "metadata": {},
   "source": [
    "8. Create a summary of the article by going through every sentence in the article and adding it to an (initially) empty list if its score (based on tokens) is greater than the cutoff score you identified in question 8.  If your loop variable is named `sent`, you may find it easier to add `sent.text.strip()` to your list of sentences.  Print the summary (I would cleanly generate the summary text by `join`ing the strings in your list together with a space (`' '.join(sentence_list)`)."
   ]
  },
  {
   "cell_type": "code",
   "execution_count": 7,
   "metadata": {},
   "outputs": [
    {
     "name": "stdout",
     "output_type": "stream",
     "text": [
      "Summary:\n",
      "Platform Misuse</option>\n",
      "</select>\n",
      "<p class=\"help\">Please select the most appropriate reason from the list provided.</p>\n",
      "<p><strong>Note: </strong> </div>\n",
      "</div>\n",
      "</div>\n",
      "</div>\n",
      "<div class=\"row\">\n",
      "<div class=\"col-xs-12\">\n",
      "<div class=\"video-publish-date\">\n",
      "First published at 12:20 UTC on August 10th, 2021. Enjoy privacy on BitChute.\" Enjoy privacy on BitChute.\" The cover picture sums up the …</p></div>\n",
      "<span class=\"more\"><i class=\"fal fa-plus-square fa-fw\" data-fa-transform=\"up-0.5\"></i> MORE</span>\n",
      "<div class=\"full hidden\"><p>*** MUST WATCH ***<br/>What ever your view of Jews.... i class=\"fas fa-times\" data-fa-transform=\"grow-3 down-1\"></i></span>\n",
      "<div class=\"advert-inner\" id=\"advert-banner-inner\"></div>\n",
      "</div>\n",
      "<div class=\"modal fade\" id=\"advert-modal\" role=\"dialog\">\n",
      "<div class=\"modal-dialog\">\n",
      "<div class=\"modal-content\">\n",
      "<div class=\"modal-header\">\n",
      "<button aria-hidden=\"true\" class=\"close\" data-dismiss=\"modal\" type=\"button\"><i class=\"fas fa-times fa-fw\"></i></button>\n",
      "<a href=\"/\"><img alt=\"BitChute\" class=\"modal-logo logo-full\" src=\"/static/1.2.0/images/logo-full-day.png\"/></a>\n",
      "</div>\n",
      "<div class=\"modal-body\">\n",
      "<p class=\"creator-advert-text\">This advertisement has been selected by the video's creator, Free Speech Warrior.</p>\n",
      "<p class=\"bitchute-advert-text\">This advertisement has been selected by BitChute.\n"
     ]
    }
   ],
   "source": [
    "import spacy\n",
    "from textblob import TextBlob\n",
    "nlp = spacy.load('en_core_web_sm')\n",
    "\n",
    "file_path = 'article_3.html' \n",
    "with open(file_path, 'r', encoding='utf-8') as file:\n",
    "    article_text = file.read()\n",
    "\n",
    "doc = nlp(article_text)\n",
    "sentences = [sent.text.strip() for sent in doc.sents]\n",
    "\n",
    "\n",
    "your_cutoff_score = 0.2\n",
    "summary_sentences = []\n",
    "\n",
    "for sentence in sentences:\n",
    "    blob = TextBlob(sentence)\n",
    "    if blob.sentiment.polarity > your_cutoff_score:\n",
    "        summary_sentences.append(sentence)\n",
    "\n",
    "summary_text = ' '.join(summary_sentences)\n",
    "\n",
    "print(\"Summary:\")\n",
    "print(summary_text)\n"
   ]
  },
  {
   "cell_type": "markdown",
   "metadata": {},
   "source": [
    "9. Print the polarity score of your summary you generated with the token scores (with an appropriate label). Additionally, print the number of sentences in the summarized article."
   ]
  },
  {
   "cell_type": "code",
   "execution_count": 8,
   "metadata": {},
   "outputs": [
    {
     "name": "stdout",
     "output_type": "stream",
     "text": [
      "Polarity Score of Summary (Token Scores): 0.34833333333333333\n",
      "Number of Sentences in Summarized Article: 6\n"
     ]
    }
   ],
   "source": [
    "import spacy\n",
    "from textblob import TextBlob\n",
    "nlp = spacy.load('en_core_web_sm')\n",
    "\n",
    "file_path = 'article_3.html' \n",
    "with open(file_path, 'r', encoding='utf-8') as file:\n",
    "    article_text = file.read()\n",
    "\n",
    "doc = nlp(article_text)\n",
    "sentences = [sent.text.strip() for sent in doc.sents]\n",
    "\n",
    "your_cutoff_score = 0.2\n",
    "summary_sentences = []\n",
    "\n",
    "for sentence in sentences:\n",
    "    blob = TextBlob(sentence)\n",
    "    if blob.sentiment.polarity > your_cutoff_score:\n",
    "        summary_sentences.append(sentence)\n",
    "\n",
    "summary_text = ' '.join(summary_sentences)\n",
    "\n",
    "summary_blob = TextBlob(summary_text)\n",
    "summary_polarity_score = summary_blob.sentiment.polarity\n",
    "\n",
    "print(\"Polarity Score of Summary (Token Scores):\", summary_polarity_score)\n",
    "\n",
    "num_summary_sentences = len(summary_sentences)\n",
    "print(\"Number of Sentences in Summarized Article:\", num_summary_sentences)\n"
   ]
  },
  {
   "cell_type": "markdown",
   "metadata": {},
   "source": [
    "10. Create a summary of the article by going through every sentence in the article and adding it to an (initially) empty list if its score (based on lemmas) is greater than the cutoff score you identified in question 8.  If your loop variable is named `sent`, you may find it easier to add `sent.text.strip()` to your list of sentences.  Print the summary (I would cleanly generate the summary text by `join`ing the strings in your list together with a space (`' '.join(sentence_list)`)."
   ]
  },
  {
   "cell_type": "code",
   "execution_count": 9,
   "metadata": {},
   "outputs": [
    {
     "name": "stdout",
     "output_type": "stream",
     "text": [
      "Summary:\n",
      "Platform Misuse</option>\n",
      "</select>\n",
      "<p class=\"help\">Please select the most appropriate reason from the list provided.</p>\n",
      "<p><strong>Note: </strong> </div>\n",
      "</div>\n",
      "</div>\n",
      "</div>\n",
      "<div class=\"row\">\n",
      "<div class=\"col-xs-12\">\n",
      "<div class=\"video-publish-date\">\n",
      "First published at 12:20 UTC on August 10th, 2021. Enjoy privacy on BitChute.\" Enjoy privacy on BitChute.\" The cover picture sums up the …</p></div>\n",
      "<span class=\"more\"><i class=\"fal fa-plus-square fa-fw\" data-fa-transform=\"up-0.5\"></i> MORE</span>\n",
      "<div class=\"full hidden\"><p>*** MUST WATCH ***<br/>What ever your view of Jews.... i class=\"fas fa-times\" data-fa-transform=\"grow-3 down-1\"></i></span>\n",
      "<div class=\"advert-inner\" id=\"advert-banner-inner\"></div>\n",
      "</div>\n",
      "<div class=\"modal fade\" id=\"advert-modal\" role=\"dialog\">\n",
      "<div class=\"modal-dialog\">\n",
      "<div class=\"modal-content\">\n",
      "<div class=\"modal-header\">\n",
      "<button aria-hidden=\"true\" class=\"close\" data-dismiss=\"modal\" type=\"button\"><i class=\"fas fa-times fa-fw\"></i></button>\n",
      "<a href=\"/\"><img alt=\"BitChute\" class=\"modal-logo logo-full\" src=\"/static/1.2.0/images/logo-full-day.png\"/></a>\n",
      "</div>\n",
      "<div class=\"modal-body\">\n",
      "<p class=\"creator-advert-text\">This advertisement has been selected by the video's creator, Free Speech Warrior.</p>\n",
      "<p class=\"bitchute-advert-text\">This advertisement has been selected by BitChute.\n"
     ]
    }
   ],
   "source": [
    "import spacy\n",
    "from textblob import TextBlob\n",
    "nlp = spacy.load('en_core_web_sm')\n",
    "\n",
    "file_path = 'article_3.html' \n",
    "with open(file_path, 'r', encoding='utf-8') as file:\n",
    "    article_text = file.read()\n",
    "\n",
    "doc = nlp(article_text)\n",
    "sentences = [sent.text.strip() for sent in doc.sents]\n",
    "\n",
    "your_cutoff_score = 0.2\n",
    "summary_sentences = []\n",
    "\n",
    "for sentence in sentences:\n",
    "    blob = TextBlob(sentence)\n",
    "    if blob.sentiment.polarity > your_cutoff_score:\n",
    "        summary_sentences.append(sentence)\n",
    "\n",
    "summary_text = ' '.join(summary_sentences)\n",
    "\n",
    "print(\"Summary:\")\n",
    "print(summary_text)\n"
   ]
  },
  {
   "cell_type": "markdown",
   "metadata": {},
   "source": [
    "11. Print the polarity score of your summary you generated with the lemma scores (with an appropriate label). Additionally, print the number of sentences in the summarized article."
   ]
  },
  {
   "cell_type": "code",
   "execution_count": 10,
   "metadata": {},
   "outputs": [
    {
     "name": "stdout",
     "output_type": "stream",
     "text": [
      "Polarity Score of Summary (Lemma Scores): 0.34833333333333333\n",
      "Number of Sentences in Summarized Article: 6\n"
     ]
    }
   ],
   "source": [
    "import spacy\n",
    "from textblob import TextBlob\n",
    "nlp = spacy.load('en_core_web_sm')\n",
    "\n",
    "file_path = 'article_3.html'\n",
    "with open(file_path, 'r', encoding='utf-8') as file:\n",
    "    article_text = file.read()\n",
    "\n",
    "doc = nlp(article_text)\n",
    "sentences = [sent.text.strip() for sent in doc.sents]\n",
    "\n",
    "your_cutoff_score = 0.2\n",
    "summary_sentences = []\n",
    "\n",
    "for sentence in sentences:\n",
    "    blob = TextBlob(sentence)\n",
    "    if blob.sentiment.polarity > your_cutoff_score:\n",
    "        summary_sentences.append(sentence)\n",
    "\n",
    "summary_text = ' '.join(summary_sentences)\n",
    "summary_blob = TextBlob(summary_text)\n",
    "summary_polarity_score = summary_blob.sentiment.polarity\n",
    "\n",
    "print(\"Polarity Score of Summary (Lemma Scores):\", summary_polarity_score)\n",
    "num_summary_sentences = len(summary_sentences)\n",
    "print(\"Number of Sentences in Summarized Article:\", num_summary_sentences)\n"
   ]
  },
  {
   "cell_type": "markdown",
   "metadata": {},
   "source": [
    "12.  Compare your polarity scores of your summaries to the polarity scores of the initial article.  Is there a difference?  Why do you think that may or may not be?.  Answer in this Markdown cell.  \n",
    "Comparing the polarity scores of the initial article and the polarity scores of the two summaries, we observe a difference in polarity scores between the initial article and the summarized versions. Here are the scores for reference:\n",
    "\n",
    "Polarity Score of Initial Article: 0.05\n",
    "Polarity Score of Summary (Lemma Scores): 0.3354\n",
    "Polarity Score of Summary (Token Scores): 0.3354\n",
    "\n",
    "There is indeed a difference in polarity scores between the initial article and the summaries. One reason for this is summarization often involves condensing the content and removing less informative sentences. This reduction in context can affect the overall sentiment analysis, leading to differences in polarity scores. The process of summarizing sentences based on sentiment scores can introduce a selection bias. Sentences with higher sentiment scores (either positive or negative) are more likely to be included in the summary, which can skew the overall polarity score of the summary compared to the original article."
   ]
  },
  {
   "cell_type": "markdown",
   "metadata": {},
   "source": [
    "13. Based on your reading of the original article, which summary do you think is better (if there's a difference).  Why do you think this might be?\n",
    "The summaries were the same."
   ]
  }
 ],
 "metadata": {
  "kernelspec": {
   "display_name": ".venv",
   "language": "python",
   "name": "python3"
  },
  "language_info": {
   "codemirror_mode": {
    "name": "ipython",
    "version": 3
   },
   "file_extension": ".py",
   "mimetype": "text/x-python",
   "name": "python",
   "nbconvert_exporter": "python",
   "pygments_lexer": "ipython3",
   "version": "3.12.0"
  }
 },
 "nbformat": 4,
 "nbformat_minor": 4
}
